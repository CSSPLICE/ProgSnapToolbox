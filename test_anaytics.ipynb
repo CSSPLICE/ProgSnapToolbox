{
 "cells": [
  {
   "cell_type": "code",
   "execution_count": 1,
   "id": "f63efeda",
   "metadata": {},
   "outputs": [
    {
     "ename": "NameError",
     "evalue": "name '__file__' is not defined",
     "output_type": "error",
     "traceback": [
      "\u001b[31m---------------------------------------------------------------------------\u001b[39m",
      "\u001b[31mNameError\u001b[39m                                 Traceback (most recent call last)",
      "\u001b[36mCell\u001b[39m\u001b[36m \u001b[39m\u001b[32mIn[1]\u001b[39m\u001b[32m, line 3\u001b[39m\n\u001b[32m      1\u001b[39m \u001b[38;5;28;01mimport\u001b[39;00m\u001b[38;5;250m \u001b[39m\u001b[34;01mos\u001b[39;00m,\u001b[38;5;250m \u001b[39m\u001b[34;01msys\u001b[39;00m\n\u001b[32m----> \u001b[39m\u001b[32m3\u001b[39m src_path = os.path.abspath(os.path.join(os.path.dirname(\u001b[34;43m__file__\u001b[39;49m), \u001b[33m\"\u001b[39m\u001b[33msrc\u001b[39m\u001b[33m\"\u001b[39m))\n\u001b[32m      4\u001b[39m sys.path.insert(\u001b[32m0\u001b[39m, src_path)\n\u001b[32m      6\u001b[39m \u001b[38;5;28;01mfrom\u001b[39;00m\u001b[38;5;250m \u001b[39m\u001b[34;01mpandas\u001b[39;00m\u001b[38;5;250m \u001b[39m\u001b[38;5;28;01mimport\u001b[39;00m DataFrame\n",
      "\u001b[31mNameError\u001b[39m: name '__file__' is not defined"
     ]
    }
   ],
   "source": [
    "import os, sys\n",
    "\n",
    "src_path = os.path.abspath(os.path.join(os.path.dirname(__file__), \"src\"))\n",
    "sys.path.insert(0, src_path)\n",
    "\n",
    "from pandas import DataFrame\n",
    "from analytics.metrics.metric import MetricCalculator\n",
    "from analytics.metrics.time import TimeMetrics\n",
    "from spec.enums import MainTableColumns as Cols"
   ]
  },
  {
   "cell_type": "code",
   "execution_count": null,
   "id": "bcd9cb68",
   "metadata": {},
   "outputs": [],
   "source": []
  },
  {
   "cell_type": "code",
   "execution_count": null,
   "id": "e3a36c3d",
   "metadata": {},
   "outputs": [],
   "source": [
    "\n",
    "original_df = DataFrame()\n",
    "\n",
    "time_metrics = TimeMetrics()\n",
    "\n",
    "results = time_metrics.calculate(original_df.groupby([Cols.SubjectID, Cols.ProblemID]))"
   ]
  }
 ],
 "metadata": {
  "kernelspec": {
   "display_name": "Python 3",
   "language": "python",
   "name": "python3"
  },
  "language_info": {
   "codemirror_mode": {
    "name": "ipython",
    "version": 3
   },
   "file_extension": ".py",
   "mimetype": "text/x-python",
   "name": "python",
   "nbconvert_exporter": "python",
   "pygments_lexer": "ipython3",
   "version": "3.11.11"
  }
 },
 "nbformat": 4,
 "nbformat_minor": 5
}
