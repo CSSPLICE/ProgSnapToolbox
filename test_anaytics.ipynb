{
 "cells": [
  {
   "cell_type": "code",
   "execution_count": 1,
   "id": "f63efeda",
   "metadata": {},
   "outputs": [],
   "source": [
    "%load_ext autoreload\n",
    "%autoreload 2\n",
    "\n",
    "import os, sys\n",
    "\n",
    "sys.path.insert(0, \"src\")\n",
    "\n",
    "from pandas import DataFrame\n",
    "from analytics.metrics.metric import MetricCalculator\n",
    "from analytics.metrics.time import TimeMetrics\n",
    "from spec.enums import MainTableColumns as Cols\n",
    "from spec.spec_definition import PS2Versions"
   ]
  },
  {
   "cell_type": "code",
   "execution_count": null,
   "id": "64602b4f",
   "metadata": {},
   "outputs": [
    {
     "name": "stdout",
     "output_type": "stream",
     "text": [
      "{'root_path': '.', 'csv_path': 'MainTable.csv', 'optimize_codestate_ids': True, 'metadata': {'Version': '1.0', 'IsEventOrderingConsistent': True, 'EventOrderScope': 'Global', 'CodeStateRepresentation': 'Table'}}\n"
     ]
    },
    {
     "data": {
      "text/plain": [
       "'MainTable.csv'"
      ]
     },
     "execution_count": 2,
     "metadata": {},
     "output_type": "execute_result"
    }
   ],
   "source": [
    "from database.config import PS2DataConfig\n",
    "\n",
    "spec = PS2Versions.v1_0.load()\n",
    "\n",
    "data_dir = \"sample_data/cwo/s19\"\n",
    "config = os.path.join(data_dir, \"data_config.yaml\")\n",
    "\n",
    "data_config = PS2DataConfig.from_yaml(config, spec)\n",
    "data_config.csv_path\n"
   ]
  },
  {
   "cell_type": "code",
   "execution_count": 5,
   "id": "b81c4fa4",
   "metadata": {},
   "outputs": [
    {
     "name": "stdout",
     "output_type": "stream",
     "text": [
      "Checking version: 1.0 against 1.0\n"
     ]
    },
    {
     "ename": "AttributeError",
     "evalue": "'IOContext' object has no attribute 'conn'",
     "output_type": "error",
     "traceback": [
      "\u001b[31m---------------------------------------------------------------------------\u001b[39m",
      "\u001b[31mAttributeError\u001b[39m                            Traceback (most recent call last)",
      "\u001b[36mCell\u001b[39m\u001b[36m \u001b[39m\u001b[32mIn[5]\u001b[39m\u001b[32m, line 3\u001b[39m\n\u001b[32m      1\u001b[39m \u001b[38;5;28;01mfrom\u001b[39;00m\u001b[38;5;250m \u001b[39m\u001b[34;01mdatabase\u001b[39;00m\u001b[34;01m.\u001b[39;00m\u001b[34;01mwriter\u001b[39;00m\u001b[34;01m.\u001b[39;00m\u001b[34;01mdb_writer_factory\u001b[39;00m\u001b[38;5;250m \u001b[39m\u001b[38;5;28;01mimport\u001b[39;00m IOFactory\n\u001b[32m      2\u001b[39m factory = IOFactory.create_factory(data_config)\n\u001b[32m----> \u001b[39m\u001b[32m3\u001b[39m \u001b[38;5;28;43;01mwith\u001b[39;49;00m\u001b[43m \u001b[49m\u001b[43mfactory\u001b[49m\u001b[43m.\u001b[49m\u001b[43mcreate_reader\u001b[49m\u001b[43m(\u001b[49m\u001b[43m)\u001b[49m\u001b[43m \u001b[49m\u001b[38;5;28;43;01mas\u001b[39;49;00m\u001b[43m \u001b[49m\u001b[43mreader\u001b[49m\u001b[43m:\u001b[49m\n\u001b[32m      4\u001b[39m \u001b[43m    \u001b[49m\u001b[43mreader\u001b[49m\u001b[43m \u001b[49m\u001b[43m=\u001b[49m\u001b[43m \u001b[49m\u001b[43mreader\u001b[49m\n",
      "\u001b[36mFile \u001b[39m\u001b[32mc:\\Users\\twprice\\Documents\\GitHub\\ProgSnap2\\src\\database\\writer\\db_writer_factory.py:120\u001b[39m, in \u001b[36mCSVIOContextManager.__enter__\u001b[39m\u001b[34m(self)\u001b[39m\n\u001b[32m    115\u001b[39m \u001b[38;5;28;01mdef\u001b[39;00m\u001b[38;5;250m \u001b[39m\u001b[34m__enter__\u001b[39m(\u001b[38;5;28mself\u001b[39m):\n\u001b[32m    116\u001b[39m     context = IOContext(\n\u001b[32m    117\u001b[39m         data_config=\u001b[38;5;28mself\u001b[39m.factory.db_config,\n\u001b[32m    118\u001b[39m         ps2_spec=\u001b[38;5;28mself\u001b[39m.factory.ps2_spec\n\u001b[32m    119\u001b[39m     )\n\u001b[32m--> \u001b[39m\u001b[32m120\u001b[39m     codestate_io = \u001b[38;5;28;43mself\u001b[39;49m\u001b[43m.\u001b[49m\u001b[43mfactory\u001b[49m\u001b[43m.\u001b[49m\u001b[43m_create_codestate_writer\u001b[49m\u001b[43m(\u001b[49m\u001b[38;5;28;43mself\u001b[39;49m\u001b[43m.\u001b[49m\u001b[43mfactory\u001b[49m\u001b[43m.\u001b[49m\u001b[43mdb_config\u001b[49m\u001b[43m,\u001b[49m\u001b[43m \u001b[49m\u001b[43mcontext\u001b[49m\u001b[43m)\u001b[49m\n\u001b[32m    121\u001b[39m     \u001b[38;5;28;01mreturn\u001b[39;00m CSVReader(context, codestate_io)\n",
      "\u001b[36mFile \u001b[39m\u001b[32mc:\\Users\\twprice\\Documents\\GitHub\\ProgSnap2\\src\\database\\writer\\db_writer_factory.py:37\u001b[39m, in \u001b[36mIOFactory._create_codestate_writer\u001b[39m\u001b[34m(self, db_config, context)\u001b[39m\n\u001b[32m     35\u001b[39m code_state_representation = \u001b[38;5;28mstr\u001b[39m(\u001b[38;5;28mself\u001b[39m.db_config.metadata.CodeStateRepresentation)\n\u001b[32m     36\u001b[39m \u001b[38;5;28;01mif\u001b[39;00m code_state_representation == CodeStateRepresentation.Table:\n\u001b[32m---> \u001b[39m\u001b[32m37\u001b[39m     \u001b[38;5;28;01mreturn\u001b[39;00m \u001b[43mTableCodeStateWriter\u001b[49m\u001b[43m(\u001b[49m\u001b[43mcontext\u001b[49m\u001b[43m)\u001b[49m\n\u001b[32m     38\u001b[39m \u001b[38;5;28;01melif\u001b[39;00m code_state_representation == CodeStateRepresentation.Directory:\n\u001b[32m     39\u001b[39m     \u001b[38;5;28;01mraise\u001b[39;00m DirectoryCodeStateWriter(db_config.codestates_dir)\n",
      "\u001b[36mFile \u001b[39m\u001b[32mc:\\Users\\twprice\\Documents\\GitHub\\ProgSnap2\\src\\database\\codestate\\table_codestate_writer.py:11\u001b[39m, in \u001b[36mTableCodeStateWriter.__init__\u001b[39m\u001b[34m(self, context)\u001b[39m\n\u001b[32m      9\u001b[39m \u001b[38;5;28;01mdef\u001b[39;00m\u001b[38;5;250m \u001b[39m\u001b[34m__init__\u001b[39m(\u001b[38;5;28mself\u001b[39m, context: SQLContext):\n\u001b[32m     10\u001b[39m     \u001b[38;5;28msuper\u001b[39m().\u001b[34m__init__\u001b[39m()\n\u001b[32m---> \u001b[39m\u001b[32m11\u001b[39m     \u001b[38;5;28mself\u001b[39m.conn = \u001b[43mcontext\u001b[49m\u001b[43m.\u001b[49m\u001b[43mconn\u001b[49m\n\u001b[32m     12\u001b[39m     \u001b[38;5;28mself\u001b[39m.table = context.table_manager.codestates_table\n",
      "\u001b[31mAttributeError\u001b[39m: 'IOContext' object has no attribute 'conn'"
     ]
    }
   ],
   "source": [
    "from database.writer.db_writer_factory import IOFactory\n",
    "factory = IOFactory.create_factory(data_config)\n",
    "with factory.create_reader() as reader:\n",
    "    reader = reader"
   ]
  },
  {
   "cell_type": "code",
   "execution_count": null,
   "id": "e3a36c3d",
   "metadata": {},
   "outputs": [],
   "source": [
    "\n",
    "original_df = DataFrame()\n",
    "\n",
    "time_metrics = TimeMetrics()\n",
    "\n",
    "results = time_metrics.calculate(original_df.groupby([Cols.SubjectID, Cols.ProblemID]))"
   ]
  }
 ],
 "metadata": {
  "kernelspec": {
   "display_name": "Python 3",
   "language": "python",
   "name": "python3"
  },
  "language_info": {
   "codemirror_mode": {
    "name": "ipython",
    "version": 3
   },
   "file_extension": ".py",
   "mimetype": "text/x-python",
   "name": "python",
   "nbconvert_exporter": "python",
   "pygments_lexer": "ipython3",
   "version": "3.11.11"
  }
 },
 "nbformat": 4,
 "nbformat_minor": 5
}
