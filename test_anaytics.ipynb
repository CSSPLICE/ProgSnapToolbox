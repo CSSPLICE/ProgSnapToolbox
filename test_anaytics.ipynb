{
 "cells": [
  {
   "cell_type": "code",
   "execution_count": null,
   "id": "f63efeda",
   "metadata": {},
   "outputs": [],
   "source": [
    "import os, sys\n",
    "\n",
    "src_path = os.path.abspath(os.path.join(os.path.dirname(__file__), \"src\"))\n",
    "sys.path.insert(0, src_path)\n",
    "\n",
    "from pandas import DataFrame\n",
    "from analytics.metrics.metric import MetricCalculator\n",
    "from analytics.metrics.time import TimeMetrics\n",
    "from spec.enums import MainTableColumns as Cols"
   ]
  },
  {
   "cell_type": "code",
   "execution_count": null,
   "id": "bcd9cb68",
   "metadata": {},
   "outputs": [],
   "source": []
  },
  {
   "cell_type": "code",
   "execution_count": null,
   "id": "e3a36c3d",
   "metadata": {},
   "outputs": [],
   "source": [
    "\n",
    "original_df = DataFrame()\n",
    "\n",
    "time_metrics = TimeMetrics()\n",
    "\n",
    "results = time_metrics.calculate(original_df.groupby([Cols.SubjectID, Cols.ProblemID]))"
   ]
  }
 ],
 "metadata": {
  "kernelspec": {
   "display_name": "Python 3",
   "language": "python",
   "name": "python3"
  },
  "language_info": {
   "name": "python",
   "version": "3.11.11"
  }
 },
 "nbformat": 4,
 "nbformat_minor": 5
}
